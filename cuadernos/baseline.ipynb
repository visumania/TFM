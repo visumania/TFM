{
 "cells": [
  {
   "cell_type": "markdown",
   "metadata": {},
   "source": [
    "# Task 6: Sexism Categorization in Memes\n",
    "\n",
    "This subtask is a multi-label classification. This task aims to classify sexist memes according to the categorization provided for Task 3:\n",
    "1. Ideological and inequality\n",
    "2. Sterotyping and dominance\n",
    "3. Objectification\n",
    "4. Sexual violence\n",
    "5. Misogyny and non-sexual \n",
    "\n",
    "## EXIST 2024 Memes Dataset\n",
    "\n",
    "The EXIST 2024 Memes Dataset contains more than 5,000 labeled memes, both in English and Spanish. In particular, the traning set contains 4,044 memes and the test set contains 1,053 memes. Distribution between both languages has been balanced. \n",
    "\n",
    "The data are provided in **JSON format**. Each meme is represented as a JSON with the following attributes: \n",
    "1. **id_EXIST**: a unique identifier for the meme.\n",
    "2. **lang**: the languages of the meme (\"en\" or \"es\").\n",
    "3. **text**: the text automatically extracted from the meme.\n",
    "4. "
   ]
  },
  {
   "cell_type": "code",
   "execution_count": null,
   "metadata": {},
   "outputs": [],
   "source": []
  }
 ],
 "metadata": {
  "language_info": {
   "name": "python"
  }
 },
 "nbformat": 4,
 "nbformat_minor": 2
}
